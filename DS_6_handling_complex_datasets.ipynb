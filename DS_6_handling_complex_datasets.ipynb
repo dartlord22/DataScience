{
 "cells": [
  {
   "cell_type": "markdown",
   "metadata": {},
   "source": [
    "**Control Flow**\n",
    "\n",
    "As the datasets we work with get larger and more complex, inspecting every detail by hand becomes time-consuming.\n",
    "\n",
    "For example, we might want to check that each file in our dataset uses the same text formatting, but we don’t want to do that one file at a time.\n",
    "\n",
    "To avoid having to perform checks like this by hand, we need a way to run code only if certain conditions are met. In python, we’ll do this using if, elif, and else statements."
   ]
  },
  {
   "cell_type": "markdown",
   "metadata": {},
   "source": [
    "**Vertical Concatenation**\n",
    "\n",
    "If we want to stack two dataframes on top of each other for analysis:"
   ]
  },
  {
   "cell_type": "code",
   "execution_count": 3,
   "metadata": {},
   "outputs": [
    {
     "name": "stdout",
     "output_type": "stream",
     "text": [
      "  Player Name  Games Played  Points Per Game  Assists Per Game  \\\n",
      "0    Player 1          60.0             19.6               9.0   \n",
      "1    Player 2          53.0             28.8               8.7   \n",
      "2    Player 3          67.0             27.0               9.3   \n",
      "3    Player 4          79.0             27.6               1.6   \n",
      "4    Player 5          58.0             18.0               9.4   \n",
      "5    Player 6          81.0             28.3               1.7   \n",
      "6    Player 7          54.0             24.7              10.0   \n",
      "7    Player 8          67.0             11.6               5.6   \n",
      "8    Player 9          78.0             10.3               6.7   \n",
      "9   Player 10          81.0              5.5               1.0   \n",
      "0         NaN           NaN              NaN               NaN   \n",
      "1         NaN           NaN              NaN               NaN   \n",
      "2         NaN           NaN              NaN               NaN   \n",
      "3         NaN           NaN              NaN               NaN   \n",
      "4         NaN           NaN              NaN               NaN   \n",
      "5         NaN           NaN              NaN               NaN   \n",
      "6         NaN           NaN              NaN               NaN   \n",
      "7         NaN           NaN              NaN               NaN   \n",
      "8         NaN           NaN              NaN               NaN   \n",
      "9         NaN           NaN              NaN               NaN   \n",
      "\n",
      "   Rebounds Per Game  Steals Per Game  Field Goal Percentage          Location  \n",
      "0                2.5              1.9                   58.6               NaN  \n",
      "1               11.0              1.0                   46.0               NaN  \n",
      "2                3.3              1.1                   42.0               NaN  \n",
      "3               11.9              1.8                   57.5               NaN  \n",
      "4               11.5              2.5                   44.6               NaN  \n",
      "5                9.4              1.7                   53.5               NaN  \n",
      "6               11.4              2.8                   51.3               NaN  \n",
      "7               10.0              1.8                   54.0               NaN  \n",
      "8                2.2              1.3                   40.3               NaN  \n",
      "9               10.7              2.5                   53.9               NaN  \n",
      "0                NaN              NaN                    NaN      New York, NY  \n",
      "1                NaN              NaN                    NaN   Los Angeles, CA  \n",
      "2                NaN              NaN                    NaN       Chicago, IL  \n",
      "3                NaN              NaN                    NaN       Houston, TX  \n",
      "4                NaN              NaN                    NaN       Phoenix, AZ  \n",
      "5                NaN              NaN                    NaN  Philadelphia, PA  \n",
      "6                NaN              NaN                    NaN   San Antonio, TX  \n",
      "7                NaN              NaN                    NaN     San Diego, CA  \n",
      "8                NaN              NaN                    NaN        Dallas, TX  \n",
      "9                NaN              NaN                    NaN      San Jose, CA  \n"
     ]
    }
   ],
   "source": [
    "import pandas as pd\n",
    "df1 = pd.read_csv('filename.csv')\n",
    "df2 = pd.read_csv('Locations.csv')\n",
    "\n",
    "combined = pd.concat([df1, df2])\n",
    "\n",
    "print(combined)"
   ]
  }
 ],
 "metadata": {
  "kernelspec": {
   "display_name": "Python 3",
   "language": "python",
   "name": "python3"
  },
  "language_info": {
   "codemirror_mode": {
    "name": "ipython",
    "version": 3
   },
   "file_extension": ".py",
   "mimetype": "text/x-python",
   "name": "python",
   "nbconvert_exporter": "python",
   "pygments_lexer": "ipython3",
   "version": "3.11.0"
  }
 },
 "nbformat": 4,
 "nbformat_minor": 2
}
