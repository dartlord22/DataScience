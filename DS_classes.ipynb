{
 "cells": [
  {
   "cell_type": "markdown",
   "metadata": {},
   "source": [
    "1. **Data Processing Pipelines**\n",
    "\n",
    "    When working with data, it's common to have a series of steps that need to be performed in sequence, such as loading, cleaning, transforming, and analyzing the data. A class can encapsulate these steps into methods and maintain relevant state, such as configuration settings or intermediate data."
   ]
  },
  {
   "cell_type": "code",
   "execution_count": 1,
   "metadata": {},
   "outputs": [
    {
     "name": "stderr",
     "output_type": "stream",
     "text": [
      "[NbConvertApp] Converting notebook DS_classes.ipynb to html\n",
      "[NbConvertApp] Writing 288174 bytes to DS_classes.html\n"
     ]
    }
   ],
   "source": [
    "!jupyter nbconvert --to html DS_classes.ipynb"
   ]
  },
  {
   "cell_type": "code",
   "execution_count": null,
   "metadata": {},
   "outputs": [],
   "source": [
    "import pandas as pd\n",
    "\n",
    "class DataPipeline:\n",
    "    def __init__(self, source):\n",
    "        self.source = source\n",
    "        self.data = None\n",
    "\n",
    "    def load_data(self):\n",
    "        self.data = pd.read_csv(self.source)\n",
    "        return self\n",
    "\n",
    "    def clean_data(self):\n",
    "        self.data.dropna(inplace=True)\n",
    "        return self\n",
    "\n",
    "    def transform_data(self, transformations):\n",
    "        for transformation in transformations:\n",
    "            self.data = transformation(self.data)\n",
    "        return self\n",
    "\n",
    "    def analyze_data(self):\n",
    "        return self.data.describe()\n",
    "\n",
    "# Usage\n",
    "pipeline = DataPipeline(\"data.csv\")\n",
    "report = (pipeline.load_data()\n",
    "                 .clean_data()\n",
    "                 .transform_data([lambda x: x[x.columns[0]] * 2])  # Example transformation\n",
    "                 .analyze_data())\n",
    "print(report)"
   ]
  },
  {
   "cell_type": "markdown",
   "metadata": {},
   "source": [
    "2. **Modeling Classes**\n",
    "\n",
    "    Data scientists often develop and compare different statistical models or machine learning algorithms. A class can be used to encapsulate each model, including its training, prediction, and evaluation methods."
   ]
  },
  {
   "cell_type": "code",
   "execution_count": null,
   "metadata": {},
   "outputs": [],
   "source": [
    "class Model:\n",
    "    def __init__(self, algorithm):\n",
    "        self.algorithm = algorithm\n",
    "        self.model = None\n",
    "\n",
    "    def train(self, X_train, y_train):\n",
    "        self.model = self.algorithm.fit(X_train, y_train)\n",
    "\n",
    "    def predict(self, X_test):\n",
    "        return self.model.predict(X_test)\n",
    "\n",
    "    def evaluate(self, X_test, y_test):\n",
    "        predictions = self.predict(X_test)\n",
    "        return accuracy_score(y_test, predictions)\n",
    "\n",
    "# Usage\n",
    "from sklearn.ensemble import RandomForestClassifier\n",
    "model = Model(RandomForestClassifier())\n",
    "model.train(X_train, y_train)\n",
    "print(\"Accuracy:\", model.evaluate(X_test, y_test))"
   ]
  },
  {
   "cell_type": "markdown",
   "metadata": {},
   "source": [
    "3. **Feature Engineering**\n",
    "\n",
    "    In many data projects, creating and managing features is a repetitive and complex task. A class can help encapsulate feature creation methods, enabling reusable and maintainable code."
   ]
  },
  {
   "cell_type": "code",
   "execution_count": null,
   "metadata": {},
   "outputs": [],
   "source": [
    "class FeatureEngineer:\n",
    "    def __init__(self, data):\n",
    "        self.data = data\n",
    "\n",
    "    def add_date_features(self, date_column):\n",
    "        self.data[f\"{date_column}_year\"] = self.data[date_column].dt.year\n",
    "        self.data[f\"{date_column}_month\"] = self.data[date_column].dt.month\n",
    "        self.data[f\"{date_column}_day\"] = self.data[date_column].dt.day\n",
    "        return self\n",
    "\n",
    "    def log_transform(self, column):\n",
    "        self.data[f\"log_{column}\"] = np.log(self.data[column] + 1)\n",
    "        return self\n",
    "\n",
    "# Usage\n",
    "engineer = FeatureEngineer(df)\n",
    "engineer.add_date_features('purchase_date').log_transform('price')"
   ]
  },
  {
   "cell_type": "markdown",
   "metadata": {},
   "source": [
    "4. **Simulation and Statistical Tests**\n",
    "\n",
    "    For analysts conducting simulations or statistical tests, classes can be useful to manage the simulation parameters, methods, and results in a structured way."
   ]
  },
  {
   "cell_type": "code",
   "execution_count": null,
   "metadata": {},
   "outputs": [],
   "source": [
    "class Simulation:\n",
    "    def __init__(self, params):\n",
    "        self.params = params\n",
    "        self.results = []\n",
    "\n",
    "    def run_simulation(self):\n",
    "        for _ in range(self.params['n_runs']):\n",
    "            result = np.random.binomial(n=self.params['n'], p=self.params['p'])\n",
    "            self.results.append(result)\n",
    "\n",
    "    def summary_statistics(self):\n",
    "        return np.mean(self.results), np.std(self.results)\n",
    "\n",
    "# Usage\n",
    "sim = Simulation({'n': 10, 'p': 0.5, 'n_runs': 100})\n",
    "sim.run_simulation()\n",
    "print(\"Mean and SD:\", sim.summary_statistics())"
   ]
  }
 ],
 "metadata": {
  "kernelspec": {
   "display_name": "Python 3",
   "language": "python",
   "name": "python3"
  },
  "language_info": {
   "codemirror_mode": {
    "name": "ipython",
    "version": 3
   },
   "file_extension": ".py",
   "mimetype": "text/x-python",
   "name": "python",
   "nbconvert_exporter": "python",
   "pygments_lexer": "ipython3",
   "version": "3.11.0"
  }
 },
 "nbformat": 4,
 "nbformat_minor": 2
}
