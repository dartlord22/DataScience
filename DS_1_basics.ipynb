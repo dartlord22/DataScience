{
 "cells": [
  {
   "cell_type": "markdown",
   "metadata": {},
   "source": [
    "Importing a dataset using the pandas .read_csv() function:"
   ]
  },
  {
   "cell_type": "code",
   "execution_count": 22,
   "metadata": {},
   "outputs": [
    {
     "name": "stdout",
     "output_type": "stream",
     "text": [
      "  Player Name  Games Played  Points Per Game  Assists Per Game  \\\n",
      "0    Player 1            60             19.6               9.0   \n",
      "1    Player 2            53             28.8               8.7   \n",
      "2    Player 3            67             27.0               9.3   \n",
      "3    Player 4            79             27.6               1.6   \n",
      "4    Player 5            58             18.0               9.4   \n",
      "5    Player 6            81             28.3               1.7   \n",
      "6    Player 7            54             24.7              10.0   \n",
      "7    Player 8            67             11.6               5.6   \n",
      "8    Player 9            78             10.3               6.7   \n",
      "9   Player 10            81              5.5               1.0   \n",
      "\n",
      "   Rebounds Per Game  Steals Per Game  Field Goal Percentage  \n",
      "0                2.5              1.9                   58.6  \n",
      "1               11.0              1.0                   46.0  \n",
      "2                3.3              1.1                   42.0  \n",
      "3               11.9              1.8                   57.5  \n",
      "4               11.5              2.5                   44.6  \n",
      "5                9.4              1.7                   53.5  \n",
      "6               11.4              2.8                   51.3  \n",
      "7               10.0              1.8                   54.0  \n",
      "8                2.2              1.3                   40.3  \n",
      "9               10.7              2.5                   53.9  \n"
     ]
    }
   ],
   "source": [
    "import pandas as pd\n",
    "dataset_name = pd.read_csv('filename.csv')\n",
    "print(dataset_name)"
   ]
  },
  {
   "cell_type": "markdown",
   "metadata": {},
   "source": [
    "If we want to preview the first few rows of the dataset, we can use the pandas method .head() which displays the first five rows of the dataset:"
   ]
  },
  {
   "cell_type": "code",
   "execution_count": 23,
   "metadata": {},
   "outputs": [
    {
     "data": {
      "text/html": [
       "<div>\n",
       "<style scoped>\n",
       "    .dataframe tbody tr th:only-of-type {\n",
       "        vertical-align: middle;\n",
       "    }\n",
       "\n",
       "    .dataframe tbody tr th {\n",
       "        vertical-align: top;\n",
       "    }\n",
       "\n",
       "    .dataframe thead th {\n",
       "        text-align: right;\n",
       "    }\n",
       "</style>\n",
       "<table border=\"1\" class=\"dataframe\">\n",
       "  <thead>\n",
       "    <tr style=\"text-align: right;\">\n",
       "      <th></th>\n",
       "      <th>Player Name</th>\n",
       "      <th>Games Played</th>\n",
       "      <th>Points Per Game</th>\n",
       "      <th>Assists Per Game</th>\n",
       "      <th>Rebounds Per Game</th>\n",
       "      <th>Steals Per Game</th>\n",
       "      <th>Field Goal Percentage</th>\n",
       "    </tr>\n",
       "  </thead>\n",
       "  <tbody>\n",
       "    <tr>\n",
       "      <th>0</th>\n",
       "      <td>Player 1</td>\n",
       "      <td>60</td>\n",
       "      <td>19.6</td>\n",
       "      <td>9.0</td>\n",
       "      <td>2.5</td>\n",
       "      <td>1.9</td>\n",
       "      <td>58.6</td>\n",
       "    </tr>\n",
       "    <tr>\n",
       "      <th>1</th>\n",
       "      <td>Player 2</td>\n",
       "      <td>53</td>\n",
       "      <td>28.8</td>\n",
       "      <td>8.7</td>\n",
       "      <td>11.0</td>\n",
       "      <td>1.0</td>\n",
       "      <td>46.0</td>\n",
       "    </tr>\n",
       "    <tr>\n",
       "      <th>2</th>\n",
       "      <td>Player 3</td>\n",
       "      <td>67</td>\n",
       "      <td>27.0</td>\n",
       "      <td>9.3</td>\n",
       "      <td>3.3</td>\n",
       "      <td>1.1</td>\n",
       "      <td>42.0</td>\n",
       "    </tr>\n",
       "    <tr>\n",
       "      <th>3</th>\n",
       "      <td>Player 4</td>\n",
       "      <td>79</td>\n",
       "      <td>27.6</td>\n",
       "      <td>1.6</td>\n",
       "      <td>11.9</td>\n",
       "      <td>1.8</td>\n",
       "      <td>57.5</td>\n",
       "    </tr>\n",
       "    <tr>\n",
       "      <th>4</th>\n",
       "      <td>Player 5</td>\n",
       "      <td>58</td>\n",
       "      <td>18.0</td>\n",
       "      <td>9.4</td>\n",
       "      <td>11.5</td>\n",
       "      <td>2.5</td>\n",
       "      <td>44.6</td>\n",
       "    </tr>\n",
       "  </tbody>\n",
       "</table>\n",
       "</div>"
      ],
      "text/plain": [
       "  Player Name  Games Played  Points Per Game  Assists Per Game  \\\n",
       "0    Player 1            60             19.6               9.0   \n",
       "1    Player 2            53             28.8               8.7   \n",
       "2    Player 3            67             27.0               9.3   \n",
       "3    Player 4            79             27.6               1.6   \n",
       "4    Player 5            58             18.0               9.4   \n",
       "\n",
       "   Rebounds Per Game  Steals Per Game  Field Goal Percentage  \n",
       "0                2.5              1.9                   58.6  \n",
       "1               11.0              1.0                   46.0  \n",
       "2                3.3              1.1                   42.0  \n",
       "3               11.9              1.8                   57.5  \n",
       "4               11.5              2.5                   44.6  "
      ]
     },
     "execution_count": 23,
     "metadata": {},
     "output_type": "execute_result"
    }
   ],
   "source": [
    "dataset_name.head()"
   ]
  },
  {
   "cell_type": "markdown",
   "metadata": {},
   "source": [
    "When we import datasets, pandas assigns a data type to each column. These assignments aren’t always correct, so it's a good practice to check to see that the assignments match what you're expecting.  To check the data types of our columns, we can use the .dtypes attribute from pandas:"
   ]
  },
  {
   "cell_type": "code",
   "execution_count": 24,
   "metadata": {},
   "outputs": [
    {
     "data": {
      "text/plain": [
       "Player Name               object\n",
       "Games Played               int64\n",
       "Points Per Game          float64\n",
       "Assists Per Game         float64\n",
       "Rebounds Per Game        float64\n",
       "Steals Per Game          float64\n",
       "Field Goal Percentage    float64\n",
       "dtype: object"
      ]
     },
     "execution_count": 24,
     "metadata": {},
     "output_type": "execute_result"
    }
   ],
   "source": [
    "dataset_name.dtypes"
   ]
  },
  {
   "cell_type": "markdown",
   "metadata": {},
   "source": [
    "We can access specific columns of a dataframe using square bracket notation.  If we wanted to look at the 'Games Played' column of our csv file, we could write:"
   ]
  },
  {
   "cell_type": "code",
   "execution_count": 25,
   "metadata": {},
   "outputs": [
    {
     "data": {
      "text/plain": [
       "0    60\n",
       "1    53\n",
       "2    67\n",
       "3    79\n",
       "4    58\n",
       "5    81\n",
       "6    54\n",
       "7    67\n",
       "8    78\n",
       "9    81\n",
       "Name: Games Played, dtype: int64"
      ]
     },
     "execution_count": 25,
     "metadata": {},
     "output_type": "execute_result"
    }
   ],
   "source": [
    "dataset_name['Games Played']"
   ]
  },
  {
   "cell_type": "markdown",
   "metadata": {},
   "source": [
    "To extract more than one column at a time, we pass a list of column names to the square brackets:"
   ]
  },
  {
   "cell_type": "code",
   "execution_count": 26,
   "metadata": {},
   "outputs": [
    {
     "data": {
      "text/html": [
       "<div>\n",
       "<style scoped>\n",
       "    .dataframe tbody tr th:only-of-type {\n",
       "        vertical-align: middle;\n",
       "    }\n",
       "\n",
       "    .dataframe tbody tr th {\n",
       "        vertical-align: top;\n",
       "    }\n",
       "\n",
       "    .dataframe thead th {\n",
       "        text-align: right;\n",
       "    }\n",
       "</style>\n",
       "<table border=\"1\" class=\"dataframe\">\n",
       "  <thead>\n",
       "    <tr style=\"text-align: right;\">\n",
       "      <th></th>\n",
       "      <th>Games Played</th>\n",
       "      <th>Player Name</th>\n",
       "    </tr>\n",
       "  </thead>\n",
       "  <tbody>\n",
       "    <tr>\n",
       "      <th>0</th>\n",
       "      <td>60</td>\n",
       "      <td>Player 1</td>\n",
       "    </tr>\n",
       "    <tr>\n",
       "      <th>1</th>\n",
       "      <td>53</td>\n",
       "      <td>Player 2</td>\n",
       "    </tr>\n",
       "    <tr>\n",
       "      <th>2</th>\n",
       "      <td>67</td>\n",
       "      <td>Player 3</td>\n",
       "    </tr>\n",
       "    <tr>\n",
       "      <th>3</th>\n",
       "      <td>79</td>\n",
       "      <td>Player 4</td>\n",
       "    </tr>\n",
       "    <tr>\n",
       "      <th>4</th>\n",
       "      <td>58</td>\n",
       "      <td>Player 5</td>\n",
       "    </tr>\n",
       "    <tr>\n",
       "      <th>5</th>\n",
       "      <td>81</td>\n",
       "      <td>Player 6</td>\n",
       "    </tr>\n",
       "    <tr>\n",
       "      <th>6</th>\n",
       "      <td>54</td>\n",
       "      <td>Player 7</td>\n",
       "    </tr>\n",
       "    <tr>\n",
       "      <th>7</th>\n",
       "      <td>67</td>\n",
       "      <td>Player 8</td>\n",
       "    </tr>\n",
       "    <tr>\n",
       "      <th>8</th>\n",
       "      <td>78</td>\n",
       "      <td>Player 9</td>\n",
       "    </tr>\n",
       "    <tr>\n",
       "      <th>9</th>\n",
       "      <td>81</td>\n",
       "      <td>Player 10</td>\n",
       "    </tr>\n",
       "  </tbody>\n",
       "</table>\n",
       "</div>"
      ],
      "text/plain": [
       "   Games Played Player Name\n",
       "0            60    Player 1\n",
       "1            53    Player 2\n",
       "2            67    Player 3\n",
       "3            79    Player 4\n",
       "4            58    Player 5\n",
       "5            81    Player 6\n",
       "6            54    Player 7\n",
       "7            67    Player 8\n",
       "8            78    Player 9\n",
       "9            81   Player 10"
      ]
     },
     "execution_count": 26,
     "metadata": {},
     "output_type": "execute_result"
    }
   ],
   "source": [
    "dataset_name[['Games Played', 'Player Name']]"
   ]
  },
  {
   "cell_type": "markdown",
   "metadata": {},
   "source": [
    "Pandas provides a built-in method .value_counts() that not only lists all unique values of a column, but also counts how often each value occurs.  By default, this sorts from larget to smallest.  We have the ability to modify the parameters of the .value_counts method to return the data in a different way:\n",
    "\n",
    "- .value_counts(normalize=True) returns percentages instead of raw numbers\n",
    "- .value_counts(ascending=True) will sort from smallest to largets "
   ]
  },
  {
   "cell_type": "code",
   "execution_count": 27,
   "metadata": {},
   "outputs": [
    {
     "data": {
      "text/plain": [
       "67    2\n",
       "81    2\n",
       "60    1\n",
       "53    1\n",
       "79    1\n",
       "58    1\n",
       "54    1\n",
       "78    1\n",
       "Name: Games Played, dtype: int64"
      ]
     },
     "execution_count": 27,
     "metadata": {},
     "output_type": "execute_result"
    }
   ],
   "source": [
    "dataset_name['Games Played'].value_counts()"
   ]
  },
  {
   "cell_type": "markdown",
   "metadata": {},
   "source": [
    "While .value_counts() can be used on numeric columns (especially when they are categorical), questions about numeric data often are more statistical. For example, we might want to know the largest and smallest value in a numeric column.\n",
    "\n",
    "The Series method .describe() calculates statistical information about the numbers in a numeric column."
   ]
  },
  {
   "cell_type": "code",
   "execution_count": 28,
   "metadata": {},
   "outputs": [
    {
     "data": {
      "text/plain": [
       "count    10.000000\n",
       "mean     67.800000\n",
       "std      11.282238\n",
       "min      53.000000\n",
       "25%      58.500000\n",
       "50%      67.000000\n",
       "75%      78.750000\n",
       "max      81.000000\n",
       "Name: Games Played, dtype: float64"
      ]
     },
     "execution_count": 28,
     "metadata": {},
     "output_type": "execute_result"
    }
   ],
   "source": [
    "dataset_name['Games Played'].describe()"
   ]
  },
  {
   "cell_type": "markdown",
   "metadata": {},
   "source": [
    "The information we receive includes:\n",
    "\n",
    "- count: the number of numbers in the column\n",
    "- mean: the average of the numbers in the column\n",
    "- std: the standard deviation of the numbers in the column\n",
    "- min: the minimum of the numbers in the column\n",
    "- 25%, 50%, 75%: the 25th, 50th, and 75th percentiles of the numbers in the column\n",
    "- max: the maximum of the numbers in the column\n",
    "\n",
    "Note that in each case, the statistic is based on the numbers in the column. Most real-world datasets are missing data in some columns. These statistics ignore those missing entries, since we can’t know what the missing values should have been."
   ]
  },
  {
   "cell_type": "markdown",
   "metadata": {},
   "source": [
    "The .describe() method can be used on columns with the object type, but the output is different."
   ]
  },
  {
   "cell_type": "code",
   "execution_count": 29,
   "metadata": {},
   "outputs": [
    {
     "data": {
      "text/plain": [
       "count           10\n",
       "unique          10\n",
       "top       Player 1\n",
       "freq             1\n",
       "Name: Player Name, dtype: object"
      ]
     },
     "execution_count": 29,
     "metadata": {},
     "output_type": "execute_result"
    }
   ],
   "source": [
    "dataset_name['Player Name'].describe()"
   ]
  },
  {
   "cell_type": "markdown",
   "metadata": {},
   "source": [
    "The information we receive includes:\n",
    "\n",
    "- count: the number of (non-missing) entries in the column.\n",
    "- unique: the number of unique values. \n",
    "- top: the most frequent value\n",
    "- freq: the number of times the top value appears"
   ]
  }
 ],
 "metadata": {
  "kernelspec": {
   "display_name": "Python 3",
   "language": "python",
   "name": "python3"
  },
  "language_info": {
   "codemirror_mode": {
    "name": "ipython",
    "version": 3
   },
   "file_extension": ".py",
   "mimetype": "text/x-python",
   "name": "python",
   "nbconvert_exporter": "python",
   "pygments_lexer": "ipython3",
   "version": "3.11.0"
  }
 },
 "nbformat": 4,
 "nbformat_minor": 2
}
