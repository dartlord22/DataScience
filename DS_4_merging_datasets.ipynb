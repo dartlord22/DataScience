{
 "cells": [
  {
   "cell_type": "markdown",
   "metadata": {},
   "source": [
    "**Inner Merge**\n",
    "\n",
    "The default merge method in pandas is called an inner merge.  Merges in pandas work by matching columns on the left to the columns on the right (The matched columns don’t need to have the same name).  "
   ]
  },
  {
   "cell_type": "code",
   "execution_count": 33,
   "metadata": {},
   "outputs": [
    {
     "data": {
      "text/html": [
       "<div>\n",
       "<style scoped>\n",
       "    .dataframe tbody tr th:only-of-type {\n",
       "        vertical-align: middle;\n",
       "    }\n",
       "\n",
       "    .dataframe tbody tr th {\n",
       "        vertical-align: top;\n",
       "    }\n",
       "\n",
       "    .dataframe thead th {\n",
       "        text-align: right;\n",
       "    }\n",
       "</style>\n",
       "<table border=\"1\" class=\"dataframe\">\n",
       "  <thead>\n",
       "    <tr style=\"text-align: right;\">\n",
       "      <th></th>\n",
       "      <th>Category</th>\n",
       "      <th>Value_x</th>\n",
       "      <th>Value_y</th>\n",
       "    </tr>\n",
       "  </thead>\n",
       "  <tbody>\n",
       "    <tr>\n",
       "      <th>0</th>\n",
       "      <td>B</td>\n",
       "      <td>2</td>\n",
       "      <td>3</td>\n",
       "    </tr>\n",
       "  </tbody>\n",
       "</table>\n",
       "</div>"
      ],
      "text/plain": [
       "  Category  Value_x  Value_y\n",
       "0        B        2        3"
      ]
     },
     "execution_count": 33,
     "metadata": {},
     "output_type": "execute_result"
    }
   ],
   "source": [
    "import pandas as pd\n",
    "\n",
    "X = pd.DataFrame({'Category':['A','B'], 'Value':[1,2]})\n",
    "Y = pd.DataFrame({'Category':['B','C'], 'Value':[3,4]})\n",
    "\n",
    "pd.merge(left = X, right = Y, left_on = 'Category', right_on='Category', how='inner')"
   ]
  },
  {
   "cell_type": "markdown",
   "metadata": {},
   "source": [
    "First, it identifies any shared values in the 'Category' columns we specified. In this case, it looks like both X and Y contain the Category B. The other two categories, A and C, are not shared.\n",
    "\n",
    "Then, it populates the value column with the values associated with B (X dataframe: B is 2, Y dataframe: B is 3)"
   ]
  },
  {
   "cell_type": "markdown",
   "metadata": {},
   "source": [
    "**Inner Merge: Multiple Matches**\n",
    "\n",
    "In some cases, there might be multiple rows with the same category."
   ]
  },
  {
   "cell_type": "code",
   "execution_count": 34,
   "metadata": {},
   "outputs": [
    {
     "data": {
      "text/html": [
       "<div>\n",
       "<style scoped>\n",
       "    .dataframe tbody tr th:only-of-type {\n",
       "        vertical-align: middle;\n",
       "    }\n",
       "\n",
       "    .dataframe tbody tr th {\n",
       "        vertical-align: top;\n",
       "    }\n",
       "\n",
       "    .dataframe thead th {\n",
       "        text-align: right;\n",
       "    }\n",
       "</style>\n",
       "<table border=\"1\" class=\"dataframe\">\n",
       "  <thead>\n",
       "    <tr style=\"text-align: right;\">\n",
       "      <th></th>\n",
       "      <th>Category</th>\n",
       "      <th>Value_x</th>\n",
       "      <th>Value_y</th>\n",
       "    </tr>\n",
       "  </thead>\n",
       "  <tbody>\n",
       "    <tr>\n",
       "      <th>0</th>\n",
       "      <td>B</td>\n",
       "      <td>2</td>\n",
       "      <td>3</td>\n",
       "    </tr>\n",
       "    <tr>\n",
       "      <th>1</th>\n",
       "      <td>B</td>\n",
       "      <td>5</td>\n",
       "      <td>3</td>\n",
       "    </tr>\n",
       "  </tbody>\n",
       "</table>\n",
       "</div>"
      ],
      "text/plain": [
       "  Category  Value_x  Value_y\n",
       "0        B        2        3\n",
       "1        B        5        3"
      ]
     },
     "execution_count": 34,
     "metadata": {},
     "output_type": "execute_result"
    }
   ],
   "source": [
    "X2 = pd.DataFrame({'Category':['A','B','B'], 'Value':[1,2,5]})\n",
    "Y2 = pd.DataFrame({'Category':['B','C'], 'Value':[3,4]})\n",
    "\n",
    "pd.merge(left = X2, right = Y2, left_on = 'Category', right_on='Category', how='inner')"
   ]
  },
  {
   "cell_type": "markdown",
   "metadata": {},
   "source": [
    "In the inner merge above, both of the 'B' values (2 and 5) from X2 are matched with the corresponding 'B' value (3) from Y2"
   ]
  },
  {
   "cell_type": "markdown",
   "metadata": {},
   "source": [
    "**Left Merges**\n",
    "\n",
    "Inner merges are the most common type of merge, but they can cause problems because they only maintain rows where the merge columns match exactly."
   ]
  },
  {
   "cell_type": "code",
   "execution_count": 35,
   "metadata": {},
   "outputs": [
    {
     "data": {
      "text/html": [
       "<div>\n",
       "<style scoped>\n",
       "    .dataframe tbody tr th:only-of-type {\n",
       "        vertical-align: middle;\n",
       "    }\n",
       "\n",
       "    .dataframe tbody tr th {\n",
       "        vertical-align: top;\n",
       "    }\n",
       "\n",
       "    .dataframe thead th {\n",
       "        text-align: right;\n",
       "    }\n",
       "</style>\n",
       "<table border=\"1\" class=\"dataframe\">\n",
       "  <thead>\n",
       "    <tr style=\"text-align: right;\">\n",
       "      <th></th>\n",
       "      <th>Category</th>\n",
       "      <th>Value_x</th>\n",
       "      <th>Value_y</th>\n",
       "    </tr>\n",
       "  </thead>\n",
       "  <tbody>\n",
       "    <tr>\n",
       "      <th>0</th>\n",
       "      <td>A</td>\n",
       "      <td>1</td>\n",
       "      <td>NaN</td>\n",
       "    </tr>\n",
       "    <tr>\n",
       "      <th>1</th>\n",
       "      <td>B</td>\n",
       "      <td>2</td>\n",
       "      <td>3.0</td>\n",
       "    </tr>\n",
       "  </tbody>\n",
       "</table>\n",
       "</div>"
      ],
      "text/plain": [
       "  Category  Value_x  Value_y\n",
       "0        A        1      NaN\n",
       "1        B        2      3.0"
      ]
     },
     "execution_count": 35,
     "metadata": {},
     "output_type": "execute_result"
    }
   ],
   "source": [
    "X = pd.DataFrame({'Category':['A','B'], 'Value':[1,2]})\n",
    "Y = pd.DataFrame({'Category':['B','C'], 'Value':[3,4]})\n",
    "\n",
    "pd.merge(left = X, right = Y, left_on = 'Category', right_on='Category', how='left')"
   ]
  },
  {
   "cell_type": "markdown",
   "metadata": {},
   "source": [
    "In the left merge above, since there is no matching Category of A in the right DataFrame, the value gets filled with NaN to indicate the missing value. The next row has a Category of B. There is a match in the right DataFrame, so we fill in that matching value. Because NaN is not an integer value, pandas will convert any columns with NaNs from the merge as floats. This is why the 3 is displayed as 3.0.  Finally, there is no Category of C in our left table, so that Category and its Value are left out entirely."
   ]
  },
  {
   "cell_type": "markdown",
   "metadata": {},
   "source": [
    "**Left Merge: Multiple Matches**\n",
    "\n",
    "In the case that there are multiple rows with the same category: "
   ]
  },
  {
   "cell_type": "code",
   "execution_count": 36,
   "metadata": {},
   "outputs": [
    {
     "data": {
      "text/html": [
       "<div>\n",
       "<style scoped>\n",
       "    .dataframe tbody tr th:only-of-type {\n",
       "        vertical-align: middle;\n",
       "    }\n",
       "\n",
       "    .dataframe tbody tr th {\n",
       "        vertical-align: top;\n",
       "    }\n",
       "\n",
       "    .dataframe thead th {\n",
       "        text-align: right;\n",
       "    }\n",
       "</style>\n",
       "<table border=\"1\" class=\"dataframe\">\n",
       "  <thead>\n",
       "    <tr style=\"text-align: right;\">\n",
       "      <th></th>\n",
       "      <th>Category</th>\n",
       "      <th>Value_x</th>\n",
       "      <th>Value_y</th>\n",
       "    </tr>\n",
       "  </thead>\n",
       "  <tbody>\n",
       "    <tr>\n",
       "      <th>0</th>\n",
       "      <td>A</td>\n",
       "      <td>1</td>\n",
       "      <td>NaN</td>\n",
       "    </tr>\n",
       "    <tr>\n",
       "      <th>1</th>\n",
       "      <td>B</td>\n",
       "      <td>2</td>\n",
       "      <td>3.0</td>\n",
       "    </tr>\n",
       "    <tr>\n",
       "      <th>2</th>\n",
       "      <td>B</td>\n",
       "      <td>5</td>\n",
       "      <td>3.0</td>\n",
       "    </tr>\n",
       "  </tbody>\n",
       "</table>\n",
       "</div>"
      ],
      "text/plain": [
       "  Category  Value_x  Value_y\n",
       "0        A        1      NaN\n",
       "1        B        2      3.0\n",
       "2        B        5      3.0"
      ]
     },
     "execution_count": 36,
     "metadata": {},
     "output_type": "execute_result"
    }
   ],
   "source": [
    "X2 = pd.DataFrame({'Category':['A','B','B'], 'Value':[1,2,5]})\n",
    "Y2 = pd.DataFrame({'Category':['B','C'], 'Value':[3,4]})\n",
    "\n",
    "pd.merge(left = X2, right = Y2, left_on = 'Category', right_on='Category', how='left')"
   ]
  },
  {
   "cell_type": "markdown",
   "metadata": {},
   "source": [
    "Just like with the inner merge with multiple matches, there will be multiple rows created for the B Category, even though there is only one instance of Category B in the right table. "
   ]
  },
  {
   "cell_type": "markdown",
   "metadata": {},
   "source": [
    "**Right Merge**\n",
    "\n",
    "There is a way to do a right merge, that basically has the same syntax as left merge, but with how='right' instead.  I'm not going to use these personally because I would always rather just use a left merge.  If I wanted to do a right merge where X was my left DataFrame and Y was my right, I'd instead just make Y my left DataFrame and organize it that way"
   ]
  },
  {
   "cell_type": "markdown",
   "metadata": {},
   "source": [
    "**Outer Merge**\n",
    "\n",
    "An outer merge (sometimes called a full outer merge) maintains all the rows from both the left and right DataFrames, joining those that match:"
   ]
  },
  {
   "cell_type": "code",
   "execution_count": 37,
   "metadata": {},
   "outputs": [
    {
     "data": {
      "text/html": [
       "<div>\n",
       "<style scoped>\n",
       "    .dataframe tbody tr th:only-of-type {\n",
       "        vertical-align: middle;\n",
       "    }\n",
       "\n",
       "    .dataframe tbody tr th {\n",
       "        vertical-align: top;\n",
       "    }\n",
       "\n",
       "    .dataframe thead th {\n",
       "        text-align: right;\n",
       "    }\n",
       "</style>\n",
       "<table border=\"1\" class=\"dataframe\">\n",
       "  <thead>\n",
       "    <tr style=\"text-align: right;\">\n",
       "      <th></th>\n",
       "      <th>Category</th>\n",
       "      <th>Value_x</th>\n",
       "      <th>Value_y</th>\n",
       "    </tr>\n",
       "  </thead>\n",
       "  <tbody>\n",
       "    <tr>\n",
       "      <th>0</th>\n",
       "      <td>A</td>\n",
       "      <td>1.0</td>\n",
       "      <td>NaN</td>\n",
       "    </tr>\n",
       "    <tr>\n",
       "      <th>1</th>\n",
       "      <td>B</td>\n",
       "      <td>2.0</td>\n",
       "      <td>3.0</td>\n",
       "    </tr>\n",
       "    <tr>\n",
       "      <th>2</th>\n",
       "      <td>C</td>\n",
       "      <td>NaN</td>\n",
       "      <td>4.0</td>\n",
       "    </tr>\n",
       "  </tbody>\n",
       "</table>\n",
       "</div>"
      ],
      "text/plain": [
       "  Category  Value_x  Value_y\n",
       "0        A      1.0      NaN\n",
       "1        B      2.0      3.0\n",
       "2        C      NaN      4.0"
      ]
     },
     "execution_count": 37,
     "metadata": {},
     "output_type": "execute_result"
    }
   ],
   "source": [
    "import pandas as pd\n",
    "\n",
    "X = pd.DataFrame({'Category':['A','B'], 'Value':[1,2]})\n",
    "Y = pd.DataFrame({'Category':['B','C'], 'Value':[3,4]})\n",
    "\n",
    "pd.merge(left = X, right = Y, left_on = 'Category', right_on='Category', how='outer')"
   ]
  },
  {
   "cell_type": "markdown",
   "metadata": {},
   "source": [
    "**Outer Merge: Multiple Matches**\n",
    "\n",
    "Once again, if there are multiple instances of a category, we’ll get multiple rows in the merged table:\n",
    "\n"
   ]
  },
  {
   "cell_type": "code",
   "execution_count": 38,
   "metadata": {},
   "outputs": [
    {
     "data": {
      "text/html": [
       "<div>\n",
       "<style scoped>\n",
       "    .dataframe tbody tr th:only-of-type {\n",
       "        vertical-align: middle;\n",
       "    }\n",
       "\n",
       "    .dataframe tbody tr th {\n",
       "        vertical-align: top;\n",
       "    }\n",
       "\n",
       "    .dataframe thead th {\n",
       "        text-align: right;\n",
       "    }\n",
       "</style>\n",
       "<table border=\"1\" class=\"dataframe\">\n",
       "  <thead>\n",
       "    <tr style=\"text-align: right;\">\n",
       "      <th></th>\n",
       "      <th>Category</th>\n",
       "      <th>Value_x</th>\n",
       "      <th>Value_y</th>\n",
       "    </tr>\n",
       "  </thead>\n",
       "  <tbody>\n",
       "    <tr>\n",
       "      <th>0</th>\n",
       "      <td>A</td>\n",
       "      <td>1.0</td>\n",
       "      <td>NaN</td>\n",
       "    </tr>\n",
       "    <tr>\n",
       "      <th>1</th>\n",
       "      <td>B</td>\n",
       "      <td>2.0</td>\n",
       "      <td>3.0</td>\n",
       "    </tr>\n",
       "    <tr>\n",
       "      <th>2</th>\n",
       "      <td>B</td>\n",
       "      <td>5.0</td>\n",
       "      <td>3.0</td>\n",
       "    </tr>\n",
       "    <tr>\n",
       "      <th>3</th>\n",
       "      <td>C</td>\n",
       "      <td>NaN</td>\n",
       "      <td>4.0</td>\n",
       "    </tr>\n",
       "  </tbody>\n",
       "</table>\n",
       "</div>"
      ],
      "text/plain": [
       "  Category  Value_x  Value_y\n",
       "0        A      1.0      NaN\n",
       "1        B      2.0      3.0\n",
       "2        B      5.0      3.0\n",
       "3        C      NaN      4.0"
      ]
     },
     "execution_count": 38,
     "metadata": {},
     "output_type": "execute_result"
    }
   ],
   "source": [
    "X2 = pd.DataFrame({'Category':['A','B','B'], 'Value':[1,2,5]})\n",
    "Y2 = pd.DataFrame({'Category':['B','C'], 'Value':[3,4]})\n",
    "\n",
    "pd.merge(left = X2, right = Y2, left_on = 'Category', right_on='Category', how='outer')"
   ]
  },
  {
   "cell_type": "markdown",
   "metadata": {},
   "source": [
    "**Multiple Columns**\n",
    "\n",
    "In all our examples so far, our tables have had specific columns designed for merging. But this isn’t always the case. Take the below example.  We want to make sure that the dates match to the shootout dates so that we know we are getting information from the specific game that took place on that date:"
   ]
  },
  {
   "cell_type": "code",
   "execution_count": 39,
   "metadata": {},
   "outputs": [
    {
     "name": "stdout",
     "output_type": "stream",
     "text": [
      "         date home_team away_team  score shootout_date shootout_winner\n",
      "0  2024-05-01    Team A    Team D      2    2024-05-01          Team A\n",
      "1  2024-05-02    Team B    Team E      3           NaN             NaN\n",
      "2  2024-05-03    Team C    Team F      1    2024-05-03          Team F\n"
     ]
    }
   ],
   "source": [
    "games = pd.DataFrame({\n",
    "    'date': ['2024-05-01', '2024-05-02', '2024-05-03'],\n",
    "    'home_team': ['Team A', 'Team B', 'Team C'],\n",
    "    'away_team': ['Team D', 'Team E', 'Team F'],\n",
    "    'score': [2, 3, 1]\n",
    "})\n",
    "\n",
    "shootouts = pd.DataFrame({\n",
    "    'shootout_date': ['2024-05-01', '2024-05-03'],\n",
    "    'home_team': ['Team A', 'Team C'],\n",
    "    'away_team': ['Team D', 'Team F'],\n",
    "    'shootout_winner': ['Team A', 'Team F']\n",
    "})\n",
    "\n",
    "merged_df = pd.merge(\n",
    "    left=games,\n",
    "    right=shootouts,\n",
    "    left_on=['date', 'home_team', 'away_team'],\n",
    "    right_on=['shootout_date', 'home_team', 'away_team'],\n",
    "    how='left'\n",
    ")\n",
    "\n",
    "print(merged_df)\n"
   ]
  }
 ],
 "metadata": {
  "kernelspec": {
   "display_name": "Python 3",
   "language": "python",
   "name": "python3"
  },
  "language_info": {
   "codemirror_mode": {
    "name": "ipython",
    "version": 3
   },
   "file_extension": ".py",
   "mimetype": "text/x-python",
   "name": "python",
   "nbconvert_exporter": "python",
   "pygments_lexer": "ipython3",
   "version": "3.11.0"
  }
 },
 "nbformat": 4,
 "nbformat_minor": 2
}
