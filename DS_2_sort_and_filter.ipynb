{
 "cells": [
  {
   "cell_type": "markdown",
   "metadata": {},
   "source": [
    "**Row Indexes**\n",
    "\n",
    "Both rows and columns in a DataFrame have labels called indexes. In the vehicles DataFrame\n",
    "\n",
    "- rows are labelled by numbers (0, 1, 2, etc.)\n",
    "- columns are labelled with text (id, model, year, etc.)\n",
    "\n",
    "If we talk about “the index” of a DataFrame, we’ll always be referring to the row index."
   ]
  },
  {
   "cell_type": "markdown",
   "metadata": {},
   "source": [
    "**Default Index**\n",
    "\n",
    "By default, DataFrames come with a RangeIndex where the first row is labelled 0, the second row is labelled 1, and so on.\n",
    "\n",
    "To confirm this, we can call the .index attribute on a DataFrame:"
   ]
  },
  {
   "cell_type": "code",
   "execution_count": 115,
   "metadata": {},
   "outputs": [
    {
     "data": {
      "text/plain": [
       "RangeIndex(start=0, stop=10, step=1)"
      ]
     },
     "execution_count": 115,
     "metadata": {},
     "output_type": "execute_result"
    }
   ],
   "source": [
    "import pandas as pd\n",
    "dataframe = pd.read_csv('filename.csv')\n",
    "dataframe.index"
   ]
  },
  {
   "cell_type": "markdown",
   "metadata": {},
   "source": [
    "The above output indicates that the row labels: \n",
    "\n",
    "- start at 0\n",
    "- increase by 1 for each row\n",
    "- end before reaching the total number of rows (stop=10)\n",
    "\n",
    "Resetting an index can be done with the .reset_index() method"
   ]
  },
  {
   "cell_type": "markdown",
   "metadata": {},
   "source": [
    "**Sorting Rows**\n",
    "\n",
    "Exploring datasets is easier if the rows have a predictable structure. For example, the a dataset would be simpler to inspect if we knew that the models were listed in chronological order. The syntax to sort a DataFrame df in pandas by a particular column is:"
   ]
  },
  {
   "cell_type": "code",
   "execution_count": 116,
   "metadata": {},
   "outputs": [
    {
     "data": {
      "text/html": [
       "<div>\n",
       "<style scoped>\n",
       "    .dataframe tbody tr th:only-of-type {\n",
       "        vertical-align: middle;\n",
       "    }\n",
       "\n",
       "    .dataframe tbody tr th {\n",
       "        vertical-align: top;\n",
       "    }\n",
       "\n",
       "    .dataframe thead th {\n",
       "        text-align: right;\n",
       "    }\n",
       "</style>\n",
       "<table border=\"1\" class=\"dataframe\">\n",
       "  <thead>\n",
       "    <tr style=\"text-align: right;\">\n",
       "      <th></th>\n",
       "      <th>Player Name</th>\n",
       "      <th>Games Played</th>\n",
       "      <th>Points Per Game</th>\n",
       "      <th>Assists Per Game</th>\n",
       "      <th>Rebounds Per Game</th>\n",
       "      <th>Steals Per Game</th>\n",
       "      <th>Field Goal Percentage</th>\n",
       "    </tr>\n",
       "  </thead>\n",
       "  <tbody>\n",
       "    <tr>\n",
       "      <th>1</th>\n",
       "      <td>Player 2</td>\n",
       "      <td>53</td>\n",
       "      <td>28.8</td>\n",
       "      <td>8.7</td>\n",
       "      <td>11.0</td>\n",
       "      <td>1.0</td>\n",
       "      <td>46.0</td>\n",
       "    </tr>\n",
       "    <tr>\n",
       "      <th>6</th>\n",
       "      <td>Player 7</td>\n",
       "      <td>54</td>\n",
       "      <td>24.7</td>\n",
       "      <td>10.0</td>\n",
       "      <td>11.4</td>\n",
       "      <td>2.8</td>\n",
       "      <td>51.3</td>\n",
       "    </tr>\n",
       "    <tr>\n",
       "      <th>4</th>\n",
       "      <td>Player 5</td>\n",
       "      <td>58</td>\n",
       "      <td>18.0</td>\n",
       "      <td>9.4</td>\n",
       "      <td>11.5</td>\n",
       "      <td>2.5</td>\n",
       "      <td>44.6</td>\n",
       "    </tr>\n",
       "    <tr>\n",
       "      <th>0</th>\n",
       "      <td>Player 1</td>\n",
       "      <td>60</td>\n",
       "      <td>19.6</td>\n",
       "      <td>9.0</td>\n",
       "      <td>2.5</td>\n",
       "      <td>1.9</td>\n",
       "      <td>58.6</td>\n",
       "    </tr>\n",
       "    <tr>\n",
       "      <th>2</th>\n",
       "      <td>Player 3</td>\n",
       "      <td>67</td>\n",
       "      <td>27.0</td>\n",
       "      <td>9.3</td>\n",
       "      <td>3.3</td>\n",
       "      <td>1.1</td>\n",
       "      <td>42.0</td>\n",
       "    </tr>\n",
       "    <tr>\n",
       "      <th>7</th>\n",
       "      <td>Player 8</td>\n",
       "      <td>67</td>\n",
       "      <td>11.6</td>\n",
       "      <td>5.6</td>\n",
       "      <td>10.0</td>\n",
       "      <td>1.8</td>\n",
       "      <td>54.0</td>\n",
       "    </tr>\n",
       "    <tr>\n",
       "      <th>8</th>\n",
       "      <td>Player 9</td>\n",
       "      <td>78</td>\n",
       "      <td>10.3</td>\n",
       "      <td>6.7</td>\n",
       "      <td>2.2</td>\n",
       "      <td>1.3</td>\n",
       "      <td>40.3</td>\n",
       "    </tr>\n",
       "    <tr>\n",
       "      <th>3</th>\n",
       "      <td>Player 4</td>\n",
       "      <td>79</td>\n",
       "      <td>27.6</td>\n",
       "      <td>1.6</td>\n",
       "      <td>11.9</td>\n",
       "      <td>1.8</td>\n",
       "      <td>57.5</td>\n",
       "    </tr>\n",
       "    <tr>\n",
       "      <th>5</th>\n",
       "      <td>Player 6</td>\n",
       "      <td>81</td>\n",
       "      <td>28.3</td>\n",
       "      <td>1.7</td>\n",
       "      <td>9.4</td>\n",
       "      <td>1.7</td>\n",
       "      <td>53.5</td>\n",
       "    </tr>\n",
       "    <tr>\n",
       "      <th>9</th>\n",
       "      <td>Player 10</td>\n",
       "      <td>81</td>\n",
       "      <td>5.5</td>\n",
       "      <td>1.0</td>\n",
       "      <td>10.7</td>\n",
       "      <td>2.5</td>\n",
       "      <td>53.9</td>\n",
       "    </tr>\n",
       "  </tbody>\n",
       "</table>\n",
       "</div>"
      ],
      "text/plain": [
       "  Player Name  Games Played  Points Per Game  Assists Per Game  \\\n",
       "1    Player 2            53             28.8               8.7   \n",
       "6    Player 7            54             24.7              10.0   \n",
       "4    Player 5            58             18.0               9.4   \n",
       "0    Player 1            60             19.6               9.0   \n",
       "2    Player 3            67             27.0               9.3   \n",
       "7    Player 8            67             11.6               5.6   \n",
       "8    Player 9            78             10.3               6.7   \n",
       "3    Player 4            79             27.6               1.6   \n",
       "5    Player 6            81             28.3               1.7   \n",
       "9   Player 10            81              5.5               1.0   \n",
       "\n",
       "   Rebounds Per Game  Steals Per Game  Field Goal Percentage  \n",
       "1               11.0              1.0                   46.0  \n",
       "6               11.4              2.8                   51.3  \n",
       "4               11.5              2.5                   44.6  \n",
       "0                2.5              1.9                   58.6  \n",
       "2                3.3              1.1                   42.0  \n",
       "7               10.0              1.8                   54.0  \n",
       "8                2.2              1.3                   40.3  \n",
       "3               11.9              1.8                   57.5  \n",
       "5                9.4              1.7                   53.5  \n",
       "9               10.7              2.5                   53.9  "
      ]
     },
     "execution_count": 116,
     "metadata": {},
     "output_type": "execute_result"
    }
   ],
   "source": [
    "df = dataframe.sort_values(\n",
    "  by = 'Games Played', #column name\n",
    "  #ascending = False #(if we want to order in a descending fashion instead)\n",
    ")\n",
    "\n",
    "df"
   ]
  },
  {
   "cell_type": "markdown",
   "metadata": {},
   "source": [
    "**Comparison Operators in Pandas**\n",
    "\n",
    "Pandas can perform comparisons for an entire column at once using the comparison operators (==, !=, >, <, >=, <=>). For example, to determine which rows of the Games Played column contain 81, we would use the code:"
   ]
  },
  {
   "cell_type": "code",
   "execution_count": 117,
   "metadata": {},
   "outputs": [
    {
     "data": {
      "text/plain": [
       "0    False\n",
       "1    False\n",
       "2    False\n",
       "3    False\n",
       "4    False\n",
       "5     True\n",
       "6    False\n",
       "7    False\n",
       "8    False\n",
       "9     True\n",
       "Name: Games Played, dtype: bool"
      ]
     },
     "execution_count": 117,
     "metadata": {},
     "output_type": "execute_result"
    }
   ],
   "source": [
    "dataframe['Games Played'] == 81"
   ]
  },
  {
   "cell_type": "markdown",
   "metadata": {},
   "source": [
    " What we usually want is to actually filter the DataFrame down to only those rows.  We would do this with the following syntax: "
   ]
  },
  {
   "cell_type": "code",
   "execution_count": 118,
   "metadata": {},
   "outputs": [
    {
     "data": {
      "text/html": [
       "<div>\n",
       "<style scoped>\n",
       "    .dataframe tbody tr th:only-of-type {\n",
       "        vertical-align: middle;\n",
       "    }\n",
       "\n",
       "    .dataframe tbody tr th {\n",
       "        vertical-align: top;\n",
       "    }\n",
       "\n",
       "    .dataframe thead th {\n",
       "        text-align: right;\n",
       "    }\n",
       "</style>\n",
       "<table border=\"1\" class=\"dataframe\">\n",
       "  <thead>\n",
       "    <tr style=\"text-align: right;\">\n",
       "      <th></th>\n",
       "      <th>Player Name</th>\n",
       "      <th>Games Played</th>\n",
       "      <th>Points Per Game</th>\n",
       "      <th>Assists Per Game</th>\n",
       "      <th>Rebounds Per Game</th>\n",
       "      <th>Steals Per Game</th>\n",
       "      <th>Field Goal Percentage</th>\n",
       "    </tr>\n",
       "  </thead>\n",
       "  <tbody>\n",
       "    <tr>\n",
       "      <th>5</th>\n",
       "      <td>Player 6</td>\n",
       "      <td>81</td>\n",
       "      <td>28.3</td>\n",
       "      <td>1.7</td>\n",
       "      <td>9.4</td>\n",
       "      <td>1.7</td>\n",
       "      <td>53.5</td>\n",
       "    </tr>\n",
       "    <tr>\n",
       "      <th>9</th>\n",
       "      <td>Player 10</td>\n",
       "      <td>81</td>\n",
       "      <td>5.5</td>\n",
       "      <td>1.0</td>\n",
       "      <td>10.7</td>\n",
       "      <td>2.5</td>\n",
       "      <td>53.9</td>\n",
       "    </tr>\n",
       "  </tbody>\n",
       "</table>\n",
       "</div>"
      ],
      "text/plain": [
       "  Player Name  Games Played  Points Per Game  Assists Per Game  \\\n",
       "5    Player 6            81             28.3               1.7   \n",
       "9   Player 10            81              5.5               1.0   \n",
       "\n",
       "   Rebounds Per Game  Steals Per Game  Field Goal Percentage  \n",
       "5                9.4              1.7                   53.5  \n",
       "9               10.7              2.5                   53.9  "
      ]
     },
     "execution_count": 118,
     "metadata": {},
     "output_type": "execute_result"
    }
   ],
   "source": [
    "dataframe[dataframe['Games Played'] == 81] # might be better to set everything inside the brackets to a variable first   "
   ]
  },
  {
   "cell_type": "markdown",
   "metadata": {},
   "source": [
    "We can even combine multiple operators to check for more than one thing to be True or False at a time to filter further:"
   ]
  },
  {
   "cell_type": "code",
   "execution_count": 119,
   "metadata": {},
   "outputs": [
    {
     "data": {
      "text/html": [
       "<div>\n",
       "<style scoped>\n",
       "    .dataframe tbody tr th:only-of-type {\n",
       "        vertical-align: middle;\n",
       "    }\n",
       "\n",
       "    .dataframe tbody tr th {\n",
       "        vertical-align: top;\n",
       "    }\n",
       "\n",
       "    .dataframe thead th {\n",
       "        text-align: right;\n",
       "    }\n",
       "</style>\n",
       "<table border=\"1\" class=\"dataframe\">\n",
       "  <thead>\n",
       "    <tr style=\"text-align: right;\">\n",
       "      <th></th>\n",
       "      <th>Player Name</th>\n",
       "      <th>Games Played</th>\n",
       "      <th>Points Per Game</th>\n",
       "      <th>Assists Per Game</th>\n",
       "      <th>Rebounds Per Game</th>\n",
       "      <th>Steals Per Game</th>\n",
       "      <th>Field Goal Percentage</th>\n",
       "    </tr>\n",
       "  </thead>\n",
       "  <tbody>\n",
       "    <tr>\n",
       "      <th>5</th>\n",
       "      <td>Player 6</td>\n",
       "      <td>81</td>\n",
       "      <td>28.3</td>\n",
       "      <td>1.7</td>\n",
       "      <td>9.4</td>\n",
       "      <td>1.7</td>\n",
       "      <td>53.5</td>\n",
       "    </tr>\n",
       "  </tbody>\n",
       "</table>\n",
       "</div>"
      ],
      "text/plain": [
       "  Player Name  Games Played  Points Per Game  Assists Per Game  \\\n",
       "5    Player 6            81             28.3               1.7   \n",
       "\n",
       "   Rebounds Per Game  Steals Per Game  Field Goal Percentage  \n",
       "5                9.4              1.7                   53.5  "
      ]
     },
     "execution_count": 119,
     "metadata": {},
     "output_type": "execute_result"
    }
   ],
   "source": [
    "dataframe[(dataframe['Games Played'] == 81) & (dataframe['Points Per Game'] > 6)]"
   ]
  },
  {
   "cell_type": "markdown",
   "metadata": {},
   "source": [
    "Note that pandas uses | instead of or for combining comparisons"
   ]
  },
  {
   "cell_type": "code",
   "execution_count": 120,
   "metadata": {},
   "outputs": [
    {
     "data": {
      "text/html": [
       "<div>\n",
       "<style scoped>\n",
       "    .dataframe tbody tr th:only-of-type {\n",
       "        vertical-align: middle;\n",
       "    }\n",
       "\n",
       "    .dataframe tbody tr th {\n",
       "        vertical-align: top;\n",
       "    }\n",
       "\n",
       "    .dataframe thead th {\n",
       "        text-align: right;\n",
       "    }\n",
       "</style>\n",
       "<table border=\"1\" class=\"dataframe\">\n",
       "  <thead>\n",
       "    <tr style=\"text-align: right;\">\n",
       "      <th></th>\n",
       "      <th>Player Name</th>\n",
       "      <th>Games Played</th>\n",
       "      <th>Points Per Game</th>\n",
       "      <th>Assists Per Game</th>\n",
       "      <th>Rebounds Per Game</th>\n",
       "      <th>Steals Per Game</th>\n",
       "      <th>Field Goal Percentage</th>\n",
       "    </tr>\n",
       "  </thead>\n",
       "  <tbody>\n",
       "    <tr>\n",
       "      <th>1</th>\n",
       "      <td>Player 2</td>\n",
       "      <td>53</td>\n",
       "      <td>28.8</td>\n",
       "      <td>8.7</td>\n",
       "      <td>11.0</td>\n",
       "      <td>1.0</td>\n",
       "      <td>46.0</td>\n",
       "    </tr>\n",
       "    <tr>\n",
       "      <th>2</th>\n",
       "      <td>Player 3</td>\n",
       "      <td>67</td>\n",
       "      <td>27.0</td>\n",
       "      <td>9.3</td>\n",
       "      <td>3.3</td>\n",
       "      <td>1.1</td>\n",
       "      <td>42.0</td>\n",
       "    </tr>\n",
       "    <tr>\n",
       "      <th>3</th>\n",
       "      <td>Player 4</td>\n",
       "      <td>79</td>\n",
       "      <td>27.6</td>\n",
       "      <td>1.6</td>\n",
       "      <td>11.9</td>\n",
       "      <td>1.8</td>\n",
       "      <td>57.5</td>\n",
       "    </tr>\n",
       "    <tr>\n",
       "      <th>4</th>\n",
       "      <td>Player 5</td>\n",
       "      <td>58</td>\n",
       "      <td>18.0</td>\n",
       "      <td>9.4</td>\n",
       "      <td>11.5</td>\n",
       "      <td>2.5</td>\n",
       "      <td>44.6</td>\n",
       "    </tr>\n",
       "    <tr>\n",
       "      <th>5</th>\n",
       "      <td>Player 6</td>\n",
       "      <td>81</td>\n",
       "      <td>28.3</td>\n",
       "      <td>1.7</td>\n",
       "      <td>9.4</td>\n",
       "      <td>1.7</td>\n",
       "      <td>53.5</td>\n",
       "    </tr>\n",
       "    <tr>\n",
       "      <th>6</th>\n",
       "      <td>Player 7</td>\n",
       "      <td>54</td>\n",
       "      <td>24.7</td>\n",
       "      <td>10.0</td>\n",
       "      <td>11.4</td>\n",
       "      <td>2.8</td>\n",
       "      <td>51.3</td>\n",
       "    </tr>\n",
       "  </tbody>\n",
       "</table>\n",
       "</div>"
      ],
      "text/plain": [
       "  Player Name  Games Played  Points Per Game  Assists Per Game  \\\n",
       "1    Player 2            53             28.8               8.7   \n",
       "2    Player 3            67             27.0               9.3   \n",
       "3    Player 4            79             27.6               1.6   \n",
       "4    Player 5            58             18.0               9.4   \n",
       "5    Player 6            81             28.3               1.7   \n",
       "6    Player 7            54             24.7              10.0   \n",
       "\n",
       "   Rebounds Per Game  Steals Per Game  Field Goal Percentage  \n",
       "1               11.0              1.0                   46.0  \n",
       "2                3.3              1.1                   42.0  \n",
       "3               11.9              1.8                   57.5  \n",
       "4               11.5              2.5                   44.6  \n",
       "5                9.4              1.7                   53.5  \n",
       "6               11.4              2.8                   51.3  "
      ]
     },
     "execution_count": 120,
     "metadata": {},
     "output_type": "execute_result"
    }
   ],
   "source": [
    "dataframe[(dataframe['Assists Per Game'] > 9) | (dataframe['Points Per Game'] > 27)]"
   ]
  },
  {
   "cell_type": "markdown",
   "metadata": {},
   "source": [
    "We can use ~ to represent not/non.  If we have already defined a variable, we can put ~ in front of it to get the opposite result:"
   ]
  },
  {
   "cell_type": "code",
   "execution_count": 121,
   "metadata": {},
   "outputs": [
    {
     "data": {
      "text/plain": [
       "0    False\n",
       "1     True\n",
       "2    False\n",
       "3     True\n",
       "4    False\n",
       "5     True\n",
       "6    False\n",
       "7    False\n",
       "8    False\n",
       "9    False\n",
       "Name: Points Per Game, dtype: bool"
      ]
     },
     "execution_count": 121,
     "metadata": {},
     "output_type": "execute_result"
    }
   ],
   "source": [
    "is_elite = dataframe['Points Per Game'] > 27\n",
    "\n",
    "is_elite"
   ]
  },
  {
   "cell_type": "code",
   "execution_count": 122,
   "metadata": {},
   "outputs": [
    {
     "data": {
      "text/plain": [
       "0     True\n",
       "1    False\n",
       "2     True\n",
       "3    False\n",
       "4     True\n",
       "5    False\n",
       "6     True\n",
       "7     True\n",
       "8     True\n",
       "9     True\n",
       "Name: Points Per Game, dtype: bool"
      ]
     },
     "execution_count": 122,
     "metadata": {},
     "output_type": "execute_result"
    }
   ],
   "source": [
    "~is_elite"
   ]
  }
 ],
 "metadata": {
  "kernelspec": {
   "display_name": "Python 3",
   "language": "python",
   "name": "python3"
  },
  "language_info": {
   "codemirror_mode": {
    "name": "ipython",
    "version": 3
   },
   "file_extension": ".py",
   "mimetype": "text/x-python",
   "name": "python",
   "nbconvert_exporter": "python",
   "pygments_lexer": "ipython3",
   "version": "3.11.0"
  }
 },
 "nbformat": 4,
 "nbformat_minor": 2
}
