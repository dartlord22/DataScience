{
 "cells": [
  {
   "cell_type": "markdown",
   "metadata": {},
   "source": [
    "**Column Information**\n",
    "\n",
    "Before we start altering a DataFrame’s columns, we need to know what the columns are and what kinds of data they contain. We can display a summary table of column information using the .info() method:"
   ]
  },
  {
   "cell_type": "code",
   "execution_count": 195,
   "metadata": {},
   "outputs": [
    {
     "name": "stdout",
     "output_type": "stream",
     "text": [
      "<class 'pandas.core.frame.DataFrame'>\n",
      "RangeIndex: 10 entries, 0 to 9\n",
      "Data columns (total 7 columns):\n",
      " #   Column                 Non-Null Count  Dtype  \n",
      "---  ------                 --------------  -----  \n",
      " 0   Player Name            10 non-null     object \n",
      " 1   Games Played           10 non-null     int64  \n",
      " 2   Points Per Game        10 non-null     float64\n",
      " 3   Assists Per Game       10 non-null     float64\n",
      " 4   Rebounds Per Game      10 non-null     float64\n",
      " 5   Steals Per Game        10 non-null     float64\n",
      " 6   Field Goal Percentage  10 non-null     float64\n",
      "dtypes: float64(5), int64(1), object(1)\n",
      "memory usage: 688.0+ bytes\n"
     ]
    }
   ],
   "source": [
    "import pandas as pd\n",
    "df = pd.read_csv('filename.csv')\n",
    "df.info()\n",
    "\n"
   ]
  },
  {
   "cell_type": "markdown",
   "metadata": {},
   "source": [
    "Here is what we are seeing with the above output: \n",
    "- The first line tells us that this is a DataFrame (.info() can also be called on a Series). \n",
    "- The second line tells us that the index of df is a range with 10 entries, from 0 to 9.\n",
    "- '#' indicates the column index number\n",
    "- 'Column' refers to the column name\n",
    "- 'Non-Null Count' is the number of non-missing values in the column\n",
    "- 'Dtype' is the column’s data type"
   ]
  },
  {
   "cell_type": "markdown",
   "metadata": {},
   "source": [
    "**Renaming and Removing Columns**\n",
    "\n",
    "There will be instances where we might want to rename a column in our dataframe to make it something more meaningful.  To do so, we would use the following syntax:"
   ]
  },
  {
   "cell_type": "code",
   "execution_count": 196,
   "metadata": {},
   "outputs": [],
   "source": [
    "column_mapper = {\n",
    "  'Points Per Game': 'PPG', \n",
    "}\n",
    "df = df.rename(\n",
    "  mapper = column_mapper,\n",
    "  axis = 1) "
   ]
  },
  {
   "cell_type": "markdown",
   "metadata": {},
   "source": [
    "Let's break down the above:\n",
    "\n",
    "- first, we defined a variable column_mapper and specify old_column_name : new_column_name\n",
    "- rename() is a method in pandas used for renaming rows or columns of a dataframe\n",
    "- mapper is a parameter of the rename() method used to pass the mapping dictionary that specifies the old names and their corresponding new names (in this case, these were passed in with our column_mapper variable) \n",
    "- axis is another parameter of the rename() method that specifies the axis along which to rename.  The value 1 is used for columns and 0 would be used for renaming rows"
   ]
  },
  {
   "cell_type": "markdown",
   "metadata": {},
   "source": [
    "**Removing Columns**\n",
    "\n",
    "If a dataset has columns that are irrelevant, we can use the .drop() method to remove them:"
   ]
  },
  {
   "cell_type": "code",
   "execution_count": 197,
   "metadata": {},
   "outputs": [
    {
     "name": "stdout",
     "output_type": "stream",
     "text": [
      "  Player Name  Games Played   PPG  Steals Per Game  Field Goal Percentage\n",
      "0    Player 1            60  19.6              1.9                   58.6\n",
      "1    Player 2            53  28.8              1.0                   46.0\n",
      "2    Player 3            67  27.0              1.1                   42.0\n",
      "3    Player 4            79  27.6              1.8                   57.5\n",
      "4    Player 5            58  18.0              2.5                   44.6\n",
      "5    Player 6            81  28.3              1.7                   53.5\n",
      "6    Player 7            54  24.7              2.8                   51.3\n",
      "7    Player 8            67  11.6              1.8                   54.0\n",
      "8    Player 9            78  10.3              1.3                   40.3\n",
      "9   Player 10            81   5.5              2.5                   53.9\n"
     ]
    }
   ],
   "source": [
    "drop_columns = ['Assists Per Game', 'Rebounds Per Game']\n",
    "df = df.drop(\n",
    "  labels=drop_columns, \n",
    "  axis=1)\n",
    "\n",
    "print(df)"
   ]
  },
  {
   "cell_type": "markdown",
   "metadata": {},
   "source": [
    "**Rounding Numbers**\n",
    "\n",
    "In Python, we can use the round() function to round to a specified number of decimals:"
   ]
  },
  {
   "cell_type": "code",
   "execution_count": 198,
   "metadata": {},
   "outputs": [
    {
     "data": {
      "text/plain": [
       "12.55"
      ]
     },
     "execution_count": 198,
     "metadata": {},
     "output_type": "execute_result"
    }
   ],
   "source": [
    "round(12.5472837, 2)"
   ]
  },
  {
   "cell_type": "markdown",
   "metadata": {},
   "source": [
    "The first argument we give the round function is the number we want to round.  The second argument tells it how many decimal places we want to round it to"
   ]
  },
  {
   "cell_type": "markdown",
   "metadata": {},
   "source": [
    "**Column Calculations in Pandas**\n",
    "\n",
    "In Pandas, computations involving columns of df will be applied to all rows simultaneously. For example, the following code using Python’s division operator / will divide Games Played in half:\n"
   ]
  },
  {
   "cell_type": "code",
   "execution_count": 199,
   "metadata": {},
   "outputs": [
    {
     "data": {
      "text/plain": [
       "0    30.0\n",
       "1    26.5\n",
       "2    33.5\n",
       "3    39.5\n",
       "4    29.0\n",
       "5    40.5\n",
       "6    27.0\n",
       "7    33.5\n",
       "8    39.0\n",
       "9    40.5\n",
       "Name: Games Played, dtype: float64"
      ]
     },
     "execution_count": 199,
     "metadata": {},
     "output_type": "execute_result"
    }
   ],
   "source": [
    "df['Games Played'] / 2"
   ]
  },
  {
   "cell_type": "markdown",
   "metadata": {},
   "source": [
    "We can also create a new column to assign the values to:"
   ]
  },
  {
   "cell_type": "code",
   "execution_count": 200,
   "metadata": {},
   "outputs": [
    {
     "name": "stdout",
     "output_type": "stream",
     "text": [
      "0    30.0\n",
      "1    26.5\n",
      "2    33.5\n",
      "3    39.5\n",
      "4    29.0\n",
      "5    40.5\n",
      "6    27.0\n",
      "7    33.5\n",
      "8    39.0\n",
      "9    40.5\n",
      "Name: Half of Games Played, dtype: float64\n"
     ]
    }
   ],
   "source": [
    "df['Half of Games Played'] = df['Games Played'] / 2\n",
    "\n",
    "print(df['Half of Games Played'])"
   ]
  },
  {
   "cell_type": "markdown",
   "metadata": {},
   "source": [
    "If we want, we could overwrite the exising column with the new values (would look something like df['Col2'] = df['Col2'] / 2)"
   ]
  },
  {
   "cell_type": "markdown",
   "metadata": {},
   "source": [
    "**Combining Columns**\n",
    "\n",
    "We can combine columns together like so:"
   ]
  },
  {
   "cell_type": "code",
   "execution_count": 201,
   "metadata": {},
   "outputs": [
    {
     "data": {
      "text/plain": [
       "0     79.6\n",
       "1     81.8\n",
       "2     94.0\n",
       "3    106.6\n",
       "4     76.0\n",
       "5    109.3\n",
       "6     78.7\n",
       "7     78.6\n",
       "8     88.3\n",
       "9     86.5\n",
       "Name: newcolumn, dtype: float64"
      ]
     },
     "execution_count": 201,
     "metadata": {},
     "output_type": "execute_result"
    }
   ],
   "source": [
    "df['newcolumn'] = df['PPG'] + df['Games Played']\n",
    "\n",
    "df['newcolumn']"
   ]
  },
  {
   "cell_type": "markdown",
   "metadata": {},
   "source": [
    "We can use our round() method we learned on the column as well:"
   ]
  },
  {
   "cell_type": "code",
   "execution_count": 202,
   "metadata": {},
   "outputs": [
    {
     "data": {
      "text/plain": [
       "0     80.0\n",
       "1     82.0\n",
       "2     94.0\n",
       "3    107.0\n",
       "4     76.0\n",
       "5    109.0\n",
       "6     79.0\n",
       "7     79.0\n",
       "8     88.0\n",
       "9     86.0\n",
       "Name: newcolumn, dtype: float64"
      ]
     },
     "execution_count": 202,
     "metadata": {},
     "output_type": "execute_result"
    }
   ],
   "source": [
    "df['newcolumn'] = df['newcolumn'].round(decimals=0) #rounding to a whole number\n",
    "\n",
    "df['newcolumn']"
   ]
  },
  {
   "cell_type": "markdown",
   "metadata": {},
   "source": [
    "**Splitting and Combining Columns**\n",
    "\n",
    "Let's separate a column that has city and state together in the same column separated by a comma:\n"
   ]
  },
  {
   "cell_type": "code",
   "execution_count": 203,
   "metadata": {},
   "outputs": [],
   "source": [
    "locations = pd.read_csv('Locations.csv')"
   ]
  },
  {
   "cell_type": "code",
   "execution_count": 204,
   "metadata": {},
   "outputs": [],
   "source": [
    "locations_split = locations['Location'].str.split(\n",
    "    pat=',',\n",
    "    expand=True)\n"
   ]
  },
  {
   "cell_type": "markdown",
   "metadata": {},
   "source": [
    "To explain the above syntax:\n",
    "\n",
    "- .str tells pandas we are treating the entries of the Location column as strings in Python\n",
    "- .split() is a string method for splitting up strings based on delimiters (what separates the values) which in this case would be a comma\n",
    "- The pat parameter specifies the delimiter that splits the string (this could be any pattern, including whitespace '')\n",
    "- expand parameter with the True argument returns a dataframe with the strings split into columns"
   ]
  },
  {
   "cell_type": "code",
   "execution_count": 205,
   "metadata": {},
   "outputs": [
    {
     "data": {
      "text/html": [
       "<div>\n",
       "<style scoped>\n",
       "    .dataframe tbody tr th:only-of-type {\n",
       "        vertical-align: middle;\n",
       "    }\n",
       "\n",
       "    .dataframe tbody tr th {\n",
       "        vertical-align: top;\n",
       "    }\n",
       "\n",
       "    .dataframe thead th {\n",
       "        text-align: right;\n",
       "    }\n",
       "</style>\n",
       "<table border=\"1\" class=\"dataframe\">\n",
       "  <thead>\n",
       "    <tr style=\"text-align: right;\">\n",
       "      <th></th>\n",
       "      <th>Location</th>\n",
       "      <th>City</th>\n",
       "      <th>State</th>\n",
       "    </tr>\n",
       "  </thead>\n",
       "  <tbody>\n",
       "    <tr>\n",
       "      <th>0</th>\n",
       "      <td>New York, NY</td>\n",
       "      <td>New York</td>\n",
       "      <td>NY</td>\n",
       "    </tr>\n",
       "    <tr>\n",
       "      <th>1</th>\n",
       "      <td>Los Angeles, CA</td>\n",
       "      <td>Los Angeles</td>\n",
       "      <td>CA</td>\n",
       "    </tr>\n",
       "    <tr>\n",
       "      <th>2</th>\n",
       "      <td>Chicago, IL</td>\n",
       "      <td>Chicago</td>\n",
       "      <td>IL</td>\n",
       "    </tr>\n",
       "    <tr>\n",
       "      <th>3</th>\n",
       "      <td>Houston, TX</td>\n",
       "      <td>Houston</td>\n",
       "      <td>TX</td>\n",
       "    </tr>\n",
       "    <tr>\n",
       "      <th>4</th>\n",
       "      <td>Phoenix, AZ</td>\n",
       "      <td>Phoenix</td>\n",
       "      <td>AZ</td>\n",
       "    </tr>\n",
       "    <tr>\n",
       "      <th>5</th>\n",
       "      <td>Philadelphia, PA</td>\n",
       "      <td>Philadelphia</td>\n",
       "      <td>PA</td>\n",
       "    </tr>\n",
       "    <tr>\n",
       "      <th>6</th>\n",
       "      <td>San Antonio, TX</td>\n",
       "      <td>San Antonio</td>\n",
       "      <td>TX</td>\n",
       "    </tr>\n",
       "    <tr>\n",
       "      <th>7</th>\n",
       "      <td>San Diego, CA</td>\n",
       "      <td>San Diego</td>\n",
       "      <td>CA</td>\n",
       "    </tr>\n",
       "    <tr>\n",
       "      <th>8</th>\n",
       "      <td>Dallas, TX</td>\n",
       "      <td>Dallas</td>\n",
       "      <td>TX</td>\n",
       "    </tr>\n",
       "    <tr>\n",
       "      <th>9</th>\n",
       "      <td>San Jose, CA</td>\n",
       "      <td>San Jose</td>\n",
       "      <td>CA</td>\n",
       "    </tr>\n",
       "  </tbody>\n",
       "</table>\n",
       "</div>"
      ],
      "text/plain": [
       "           Location          City State\n",
       "0      New York, NY      New York    NY\n",
       "1   Los Angeles, CA   Los Angeles    CA\n",
       "2       Chicago, IL       Chicago    IL\n",
       "3       Houston, TX       Houston    TX\n",
       "4       Phoenix, AZ       Phoenix    AZ\n",
       "5  Philadelphia, PA  Philadelphia    PA\n",
       "6   San Antonio, TX   San Antonio    TX\n",
       "7     San Diego, CA     San Diego    CA\n",
       "8        Dallas, TX        Dallas    TX\n",
       "9      San Jose, CA      San Jose    CA"
      ]
     },
     "execution_count": 205,
     "metadata": {},
     "output_type": "execute_result"
    }
   ],
   "source": [
    "locations['City'] = locations_split[0]\n",
    "locations['State'] = locations_split[1]\n",
    "\n",
    "locations"
   ]
  },
  {
   "cell_type": "code",
   "execution_count": 206,
   "metadata": {},
   "outputs": [
    {
     "data": {
      "text/html": [
       "<div>\n",
       "<style scoped>\n",
       "    .dataframe tbody tr th:only-of-type {\n",
       "        vertical-align: middle;\n",
       "    }\n",
       "\n",
       "    .dataframe tbody tr th {\n",
       "        vertical-align: top;\n",
       "    }\n",
       "\n",
       "    .dataframe thead th {\n",
       "        text-align: right;\n",
       "    }\n",
       "</style>\n",
       "<table border=\"1\" class=\"dataframe\">\n",
       "  <thead>\n",
       "    <tr style=\"text-align: right;\">\n",
       "      <th></th>\n",
       "      <th>City</th>\n",
       "      <th>State</th>\n",
       "    </tr>\n",
       "  </thead>\n",
       "  <tbody>\n",
       "    <tr>\n",
       "      <th>0</th>\n",
       "      <td>New York</td>\n",
       "      <td>NY</td>\n",
       "    </tr>\n",
       "    <tr>\n",
       "      <th>1</th>\n",
       "      <td>Los Angeles</td>\n",
       "      <td>CA</td>\n",
       "    </tr>\n",
       "    <tr>\n",
       "      <th>2</th>\n",
       "      <td>Chicago</td>\n",
       "      <td>IL</td>\n",
       "    </tr>\n",
       "    <tr>\n",
       "      <th>3</th>\n",
       "      <td>Houston</td>\n",
       "      <td>TX</td>\n",
       "    </tr>\n",
       "    <tr>\n",
       "      <th>4</th>\n",
       "      <td>Phoenix</td>\n",
       "      <td>AZ</td>\n",
       "    </tr>\n",
       "    <tr>\n",
       "      <th>5</th>\n",
       "      <td>Philadelphia</td>\n",
       "      <td>PA</td>\n",
       "    </tr>\n",
       "    <tr>\n",
       "      <th>6</th>\n",
       "      <td>San Antonio</td>\n",
       "      <td>TX</td>\n",
       "    </tr>\n",
       "    <tr>\n",
       "      <th>7</th>\n",
       "      <td>San Diego</td>\n",
       "      <td>CA</td>\n",
       "    </tr>\n",
       "    <tr>\n",
       "      <th>8</th>\n",
       "      <td>Dallas</td>\n",
       "      <td>TX</td>\n",
       "    </tr>\n",
       "    <tr>\n",
       "      <th>9</th>\n",
       "      <td>San Jose</td>\n",
       "      <td>CA</td>\n",
       "    </tr>\n",
       "  </tbody>\n",
       "</table>\n",
       "</div>"
      ],
      "text/plain": [
       "           City State\n",
       "0      New York    NY\n",
       "1   Los Angeles    CA\n",
       "2       Chicago    IL\n",
       "3       Houston    TX\n",
       "4       Phoenix    AZ\n",
       "5  Philadelphia    PA\n",
       "6   San Antonio    TX\n",
       "7     San Diego    CA\n",
       "8        Dallas    TX\n",
       "9      San Jose    CA"
      ]
     },
     "execution_count": 206,
     "metadata": {},
     "output_type": "execute_result"
    }
   ],
   "source": [
    "locations = locations.drop(\n",
    "    labels='Location',\n",
    "    axis=1\n",
    ")\n",
    "\n",
    "locations"
   ]
  },
  {
   "cell_type": "markdown",
   "metadata": {},
   "source": [
    "If we want to combine two columns together:"
   ]
  },
  {
   "cell_type": "code",
   "execution_count": 207,
   "metadata": {},
   "outputs": [
    {
     "data": {
      "text/html": [
       "<div>\n",
       "<style scoped>\n",
       "    .dataframe tbody tr th:only-of-type {\n",
       "        vertical-align: middle;\n",
       "    }\n",
       "\n",
       "    .dataframe tbody tr th {\n",
       "        vertical-align: top;\n",
       "    }\n",
       "\n",
       "    .dataframe thead th {\n",
       "        text-align: right;\n",
       "    }\n",
       "</style>\n",
       "<table border=\"1\" class=\"dataframe\">\n",
       "  <thead>\n",
       "    <tr style=\"text-align: right;\">\n",
       "      <th></th>\n",
       "      <th>City</th>\n",
       "      <th>State</th>\n",
       "      <th>Combined</th>\n",
       "    </tr>\n",
       "  </thead>\n",
       "  <tbody>\n",
       "    <tr>\n",
       "      <th>0</th>\n",
       "      <td>New York</td>\n",
       "      <td>NY</td>\n",
       "      <td>New York, NY</td>\n",
       "    </tr>\n",
       "    <tr>\n",
       "      <th>1</th>\n",
       "      <td>Los Angeles</td>\n",
       "      <td>CA</td>\n",
       "      <td>Los Angeles, CA</td>\n",
       "    </tr>\n",
       "    <tr>\n",
       "      <th>2</th>\n",
       "      <td>Chicago</td>\n",
       "      <td>IL</td>\n",
       "      <td>Chicago, IL</td>\n",
       "    </tr>\n",
       "    <tr>\n",
       "      <th>3</th>\n",
       "      <td>Houston</td>\n",
       "      <td>TX</td>\n",
       "      <td>Houston, TX</td>\n",
       "    </tr>\n",
       "    <tr>\n",
       "      <th>4</th>\n",
       "      <td>Phoenix</td>\n",
       "      <td>AZ</td>\n",
       "      <td>Phoenix, AZ</td>\n",
       "    </tr>\n",
       "    <tr>\n",
       "      <th>5</th>\n",
       "      <td>Philadelphia</td>\n",
       "      <td>PA</td>\n",
       "      <td>Philadelphia, PA</td>\n",
       "    </tr>\n",
       "    <tr>\n",
       "      <th>6</th>\n",
       "      <td>San Antonio</td>\n",
       "      <td>TX</td>\n",
       "      <td>San Antonio, TX</td>\n",
       "    </tr>\n",
       "    <tr>\n",
       "      <th>7</th>\n",
       "      <td>San Diego</td>\n",
       "      <td>CA</td>\n",
       "      <td>San Diego, CA</td>\n",
       "    </tr>\n",
       "    <tr>\n",
       "      <th>8</th>\n",
       "      <td>Dallas</td>\n",
       "      <td>TX</td>\n",
       "      <td>Dallas, TX</td>\n",
       "    </tr>\n",
       "    <tr>\n",
       "      <th>9</th>\n",
       "      <td>San Jose</td>\n",
       "      <td>CA</td>\n",
       "      <td>San Jose, CA</td>\n",
       "    </tr>\n",
       "  </tbody>\n",
       "</table>\n",
       "</div>"
      ],
      "text/plain": [
       "           City State          Combined\n",
       "0      New York    NY      New York, NY\n",
       "1   Los Angeles    CA   Los Angeles, CA\n",
       "2       Chicago    IL       Chicago, IL\n",
       "3       Houston    TX       Houston, TX\n",
       "4       Phoenix    AZ       Phoenix, AZ\n",
       "5  Philadelphia    PA  Philadelphia, PA\n",
       "6   San Antonio    TX   San Antonio, TX\n",
       "7     San Diego    CA     San Diego, CA\n",
       "8        Dallas    TX        Dallas, TX\n",
       "9      San Jose    CA      San Jose, CA"
      ]
     },
     "execution_count": 207,
     "metadata": {},
     "output_type": "execute_result"
    }
   ],
   "source": [
    "locations['Combined'] = locations['City'].str.cat(\n",
    "    locations['State'],\n",
    "    sep=','\n",
    ")\n",
    "\n",
    "locations"
   ]
  },
  {
   "cell_type": "markdown",
   "metadata": {},
   "source": [
    "For the above syntax:\n",
    "\n",
    "- .cat() method places the text in State after the text in City (concatenation)\n",
    "- the separator sep=',' specifies how we want to separate the values "
   ]
  },
  {
   "cell_type": "markdown",
   "metadata": {},
   "source": [
    "We can use .lower(), .upper(), and .title() methods to change the case of the letters (need to use the .str method before the desired method you want to use):"
   ]
  },
  {
   "cell_type": "code",
   "execution_count": 208,
   "metadata": {},
   "outputs": [
    {
     "data": {
      "text/plain": [
       "0        NEW YORK\n",
       "1     LOS ANGELES\n",
       "2         CHICAGO\n",
       "3         HOUSTON\n",
       "4         PHOENIX\n",
       "5    PHILADELPHIA\n",
       "6     SAN ANTONIO\n",
       "7       SAN DIEGO\n",
       "8          DALLAS\n",
       "9        SAN JOSE\n",
       "Name: City, dtype: object"
      ]
     },
     "execution_count": 208,
     "metadata": {},
     "output_type": "execute_result"
    }
   ],
   "source": [
    "locations['City'].str.upper()"
   ]
  },
  {
   "cell_type": "markdown",
   "metadata": {},
   "source": [
    "We can also use the .strip() method to remove whitespace in a string (only works on leading and trailing whitespace, not delimiter whitespace):"
   ]
  },
  {
   "cell_type": "code",
   "execution_count": 209,
   "metadata": {},
   "outputs": [
    {
     "data": {
      "text/plain": [
       "0        New York\n",
       "1     Los Angeles\n",
       "2         Chicago\n",
       "3         Houston\n",
       "4         Phoenix\n",
       "5    Philadelphia\n",
       "6     San Antonio\n",
       "7       San Diego\n",
       "8          Dallas\n",
       "9        San Jose\n",
       "Name: City, dtype: object"
      ]
     },
     "execution_count": 209,
     "metadata": {},
     "output_type": "execute_result"
    }
   ],
   "source": [
    "locations['City'].str.strip()"
   ]
  },
  {
   "cell_type": "markdown",
   "metadata": {},
   "source": [
    "There is also a .replace() method to replace a specified character pattern with another one:"
   ]
  },
  {
   "cell_type": "code",
   "execution_count": 210,
   "metadata": {},
   "outputs": [
    {
     "data": {
      "text/html": [
       "<div>\n",
       "<style scoped>\n",
       "    .dataframe tbody tr th:only-of-type {\n",
       "        vertical-align: middle;\n",
       "    }\n",
       "\n",
       "    .dataframe tbody tr th {\n",
       "        vertical-align: top;\n",
       "    }\n",
       "\n",
       "    .dataframe thead th {\n",
       "        text-align: right;\n",
       "    }\n",
       "</style>\n",
       "<table border=\"1\" class=\"dataframe\">\n",
       "  <thead>\n",
       "    <tr style=\"text-align: right;\">\n",
       "      <th></th>\n",
       "      <th>City</th>\n",
       "      <th>State</th>\n",
       "      <th>Combined</th>\n",
       "    </tr>\n",
       "  </thead>\n",
       "  <tbody>\n",
       "    <tr>\n",
       "      <th>0</th>\n",
       "      <td>New York</td>\n",
       "      <td>NY</td>\n",
       "      <td>New York; NY</td>\n",
       "    </tr>\n",
       "    <tr>\n",
       "      <th>1</th>\n",
       "      <td>Los Angeles</td>\n",
       "      <td>CA</td>\n",
       "      <td>Los Angeles; CA</td>\n",
       "    </tr>\n",
       "    <tr>\n",
       "      <th>2</th>\n",
       "      <td>Chicago</td>\n",
       "      <td>IL</td>\n",
       "      <td>Chicago; IL</td>\n",
       "    </tr>\n",
       "    <tr>\n",
       "      <th>3</th>\n",
       "      <td>Houston</td>\n",
       "      <td>TX</td>\n",
       "      <td>Houston; TX</td>\n",
       "    </tr>\n",
       "    <tr>\n",
       "      <th>4</th>\n",
       "      <td>Phoenix</td>\n",
       "      <td>AZ</td>\n",
       "      <td>Phoenix; AZ</td>\n",
       "    </tr>\n",
       "    <tr>\n",
       "      <th>5</th>\n",
       "      <td>Philadelphia</td>\n",
       "      <td>PA</td>\n",
       "      <td>Philadelphia; PA</td>\n",
       "    </tr>\n",
       "    <tr>\n",
       "      <th>6</th>\n",
       "      <td>San Antonio</td>\n",
       "      <td>TX</td>\n",
       "      <td>San Antonio; TX</td>\n",
       "    </tr>\n",
       "    <tr>\n",
       "      <th>7</th>\n",
       "      <td>San Diego</td>\n",
       "      <td>CA</td>\n",
       "      <td>San Diego; CA</td>\n",
       "    </tr>\n",
       "    <tr>\n",
       "      <th>8</th>\n",
       "      <td>Dallas</td>\n",
       "      <td>TX</td>\n",
       "      <td>Dallas; TX</td>\n",
       "    </tr>\n",
       "    <tr>\n",
       "      <th>9</th>\n",
       "      <td>San Jose</td>\n",
       "      <td>CA</td>\n",
       "      <td>San Jose; CA</td>\n",
       "    </tr>\n",
       "  </tbody>\n",
       "</table>\n",
       "</div>"
      ],
      "text/plain": [
       "           City State          Combined\n",
       "0      New York    NY      New York; NY\n",
       "1   Los Angeles    CA   Los Angeles; CA\n",
       "2       Chicago    IL       Chicago; IL\n",
       "3       Houston    TX       Houston; TX\n",
       "4       Phoenix    AZ       Phoenix; AZ\n",
       "5  Philadelphia    PA  Philadelphia; PA\n",
       "6   San Antonio    TX   San Antonio; TX\n",
       "7     San Diego    CA     San Diego; CA\n",
       "8        Dallas    TX        Dallas; TX\n",
       "9      San Jose    CA      San Jose; CA"
      ]
     },
     "execution_count": 210,
     "metadata": {},
     "output_type": "execute_result"
    }
   ],
   "source": [
    "locations['Combined'] = locations['Combined'].str.replace(\n",
    "    pat=',',\n",
    "    repl=';',\n",
    "    regex=False \n",
    ")\n",
    "\n",
    "locations"
   ]
  },
  {
   "cell_type": "markdown",
   "metadata": {},
   "source": [
    "To change the data type of a column:"
   ]
  },
  {
   "cell_type": "code",
   "execution_count": 211,
   "metadata": {},
   "outputs": [],
   "source": [
    "locations['State'] = locations['State'].astype('object')"
   ]
  }
 ],
 "metadata": {
  "kernelspec": {
   "display_name": "Python 3",
   "language": "python",
   "name": "python3"
  },
  "language_info": {
   "codemirror_mode": {
    "name": "ipython",
    "version": 3
   },
   "file_extension": ".py",
   "mimetype": "text/x-python",
   "name": "python",
   "nbconvert_exporter": "python",
   "pygments_lexer": "ipython3",
   "version": "3.11.0"
  }
 },
 "nbformat": 4,
 "nbformat_minor": 2
}
