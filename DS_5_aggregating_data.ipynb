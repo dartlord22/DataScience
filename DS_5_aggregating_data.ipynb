{
 "cells": [
  {
   "cell_type": "markdown",
   "metadata": {},
   "source": [
    "**Aggregation Functions**\n",
    "\n",
    "Aggregation regfers to using one value to describe multiple datapoints.  Calculating an average is the classisc example of aggregation, because we use one value (the average) to describe the 'center' of multiple datapoints. Aggregations like the average are also called summary statistics because they summarize an entire group of data using a statistic.  Using the .describe() method, we can calculate the most common aggregation functions like the mean, minimum, and maximum all at once:"
   ]
  },
  {
   "cell_type": "code",
   "execution_count": 8,
   "metadata": {},
   "outputs": [
    {
     "data": {
      "text/plain": [
       "count    10.000000\n",
       "mean     20.140000\n",
       "std       8.524761\n",
       "min       5.500000\n",
       "25%      13.200000\n",
       "50%      22.150000\n",
       "75%      27.450000\n",
       "max      28.800000\n",
       "Name: Points Per Game, dtype: float64"
      ]
     },
     "execution_count": 8,
     "metadata": {},
     "output_type": "execute_result"
    }
   ],
   "source": [
    "import pandas as pd\n",
    "\n",
    "df = pd.read_csv('filename.csv')\n",
    "\n",
    "df['Points Per Game'].describe()"
   ]
  },
  {
   "cell_type": "markdown",
   "metadata": {},
   "source": [
    "This output tells us, for example, that the average points per game were 20.14, with a maximum of 28.8.  If we want to compute aggregations individually, we can apply individual pandas methods to one or more columns:"
   ]
  },
  {
   "cell_type": "code",
   "execution_count": 9,
   "metadata": {},
   "outputs": [],
   "source": [
    "\n",
    "# syntax to summarize a single column: df['column_name'].summary_method()\n",
    "#  syntax to summarize multiple columns: df[['column_name1', 'column_name2']].summary_method()"
   ]
  },
  {
   "cell_type": "markdown",
   "metadata": {},
   "source": [
    "Built-in summary methods include:\n",
    "\n",
    "- .mean() returns the mean\n",
    "- .median() returns the median\n",
    "- .std() returns the standard deviation\n",
    "- .max() and .min() return the maximum and minimum values respectively\n",
    "- .nunique() returns the count of unique values\n",
    "- .count() returns the count of non-null values\n",
    "- .sum() returns the sum"
   ]
  },
  {
   "attachments": {
    "image.png": {
     "image/png": "[encoded data removed]"
    }
   },
   "cell_type": "markdown",
   "metadata": {},
   "source": [
    "**Aggregating Booleans**\n",
    "\n",
    "Here’s a sample Boolean column with its representation as 1s and 0s:\n",
    "\n",
    "![image.png](attachment:image.png)\n",
    "\n",
    "When we apply .sum() to the Boolean column, we get 1+0+1+1 = 3 – exactly the number of True entries. And this will always work, because the False entries are 0, and so disappear when we compute the sum.\n",
    "\n",
    "If we were to calculate .mean() of True values, it would add up all True entries (3) divided by the total number of entries (4) giving us an output of 75% or .75"
   ]
  }
 ],
 "metadata": {
  "kernelspec": {
   "display_name": "Python 3",
   "language": "python",
   "name": "python3"
  },
  "language_info": {
   "codemirror_mode": {
    "name": "ipython",
    "version": 3
   },
   "file_extension": ".py",
   "mimetype": "text/x-python",
   "name": "python",
   "nbconvert_exporter": "python",
   "pygments_lexer": "ipython3",
   "version": "3.11.0"
  }
 },
 "nbformat": 4,
 "nbformat_minor": 2
}
